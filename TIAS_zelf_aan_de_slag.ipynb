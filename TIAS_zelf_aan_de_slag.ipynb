{
 "cells": [
  {
   "cell_type": "markdown",
   "metadata": {},
   "source": [
    "# Zelf aan de slag\n",
    "In dit \"notebook\" gaan we zelf aan de slag met wat code en een dataset die we \"data\" noemen. De datast volgt het voorbeeld van het college!In dit voorbeeld kun je op de verschillende cellen klikken en kun je in lege cellen code typen. De cellen moet je \"uitvoeren\" (de knop \"Run\" hierboven) voordat resultaten van de cel beschikbaar zijn. "
   ]
  },
  {
   "cell_type": "code",
   "execution_count": 1,
   "metadata": {},
   "outputs": [],
   "source": [
    "# Starten met het inladen van wat \"packages\" die nodig zijn voor het vervolg\n",
    "import pandas as pd\n",
    "from matplotlib import pyplot\n",
    "import numpy as np \n",
    "import matplotlib.pyplot as plt \n",
    "import seaborn as sns\n",
    "from mpl_toolkits.basemap import Basemap\n",
    "from keplergl import KeplerGl\n",
    "\n",
    "sns.set()\n",
    "%matplotlib inline"
   ]
  },
  {
   "cell_type": "markdown",
   "metadata": {},
   "source": [
    "### We laden wat voorbeelddata in, waar we mee verder gaan in de volgende oefeningen"
   ]
  },
  {
   "cell_type": "code",
   "execution_count": 2,
   "metadata": {},
   "outputs": [],
   "source": [
    "# Data inladen\n",
    "url = 'https://https://github.com/sparks-ai/TIAS/TIAS_dataset_zelf_aan_de_slag.csv'\n",
    "#url = 'https://github.com/sparks-ai/TIAS/blob/d96aea0f8897abeeeeaa88093c3a3b34b7bbb16d/TIAS_dataset_zelf_aan_de_slag.csv'\n",
    "data = pd.read_csv(url)"
   ]
  },
  {
   "cell_type": "markdown",
   "metadata": {},
   "source": [
    "### Vraag 1: hoeveel rijen en kolommen heeft de dataset, genaamd \"data\"?"
   ]
  },
  {
   "cell_type": "code",
   "execution_count": 19,
   "metadata": {},
   "outputs": [],
   "source": [
    "# Schrijf hier je code, selecteer de cel en druk vervolgens op \"Run\"\n"
   ]
  },
  {
   "cell_type": "markdown",
   "metadata": {},
   "source": [
    "### Vraag 2: over welke gemeente/gemeentes gaat deze dataset?"
   ]
  },
  {
   "cell_type": "code",
   "execution_count": 20,
   "metadata": {},
   "outputs": [],
   "source": [
    "# Schrijf hier je code, selecteer de cel en druk vervolgens op \"Run\"\n"
   ]
  },
  {
   "cell_type": "markdown",
   "metadata": {},
   "source": [
    "### Vraag 3: wat is de meestvoorkomende hoofdfunctie?"
   ]
  },
  {
   "cell_type": "code",
   "execution_count": 21,
   "metadata": {},
   "outputs": [],
   "source": [
    "# Schrijf hier je code, selecteer de cel en druk vervolgens op \"Run\"\n"
   ]
  },
  {
   "cell_type": "markdown",
   "metadata": {},
   "source": [
    "### Vraag 4: hoeveel missende waardes zijn er per kolom?"
   ]
  },
  {
   "cell_type": "code",
   "execution_count": 22,
   "metadata": {},
   "outputs": [],
   "source": [
    "# Schrijf hier je code, selecteer de cel en druk vervolgens op \"Run\"\n"
   ]
  },
  {
   "cell_type": "markdown",
   "metadata": {},
   "source": [
    "### Vraag 5: welke buurt (BU_NAAM) heeft het meeste aantal winkels?"
   ]
  },
  {
   "cell_type": "code",
   "execution_count": 23,
   "metadata": {},
   "outputs": [],
   "source": [
    "# Schrijf hier je code, selecteer de cel en druk vervolgens op \"Run\"\n"
   ]
  },
  {
   "cell_type": "markdown",
   "metadata": {},
   "source": [
    "### Vraag 6: in welke buurten staan de onderwijsfuncties?"
   ]
  },
  {
   "cell_type": "code",
   "execution_count": 24,
   "metadata": {},
   "outputs": [],
   "source": [
    "# Schrijf hier je code, selecteer de cel en druk vervolgens op \"Run\"\n"
   ]
  },
  {
   "cell_type": "markdown",
   "metadata": {},
   "source": [
    "### Vraag 7: hoever staan industriefuncties gemiddeld af van een snelweg?"
   ]
  },
  {
   "cell_type": "code",
   "execution_count": 25,
   "metadata": {},
   "outputs": [],
   "source": [
    "# Schrijf hier je code, selecteer de cel en druk vervolgens op \"Run\"\n"
   ]
  },
  {
   "cell_type": "markdown",
   "metadata": {},
   "source": [
    "### Vraag 8: plot de panden in de dataset op een kaartje"
   ]
  },
  {
   "cell_type": "code",
   "execution_count": 26,
   "metadata": {},
   "outputs": [],
   "source": [
    "# Schrijf hier je code, selecteer de cel en druk vervolgens op \"Run\"\n",
    "\n"
   ]
  },
  {
   "cell_type": "markdown",
   "metadata": {},
   "source": [
    "### Vraag 9: geef op de plot verschillende kleuren op basis van de verschillende hoofdfuncties"
   ]
  },
  {
   "cell_type": "code",
   "execution_count": 27,
   "metadata": {},
   "outputs": [],
   "source": [
    "# Schrijf hier je code, selecteer de cel en druk vervolgens op \"Run\"\n",
    "\n"
   ]
  },
  {
   "cell_type": "code",
   "execution_count": null,
   "metadata": {},
   "outputs": [],
   "source": []
  },
  {
   "cell_type": "code",
   "execution_count": null,
   "metadata": {},
   "outputs": [],
   "source": []
  },
  {
   "cell_type": "code",
   "execution_count": null,
   "metadata": {},
   "outputs": [],
   "source": []
  },
  {
   "cell_type": "code",
   "execution_count": null,
   "metadata": {},
   "outputs": [],
   "source": []
  },
  {
   "cell_type": "code",
   "execution_count": null,
   "metadata": {},
   "outputs": [],
   "source": []
  },
  {
   "cell_type": "code",
   "execution_count": null,
   "metadata": {},
   "outputs": [],
   "source": []
  }
 ],
 "metadata": {
  "kernelspec": {
   "display_name": "Python [conda env:Anaconda3]",
   "language": "python",
   "name": "conda-env-Anaconda3-py"
  },
  "language_info": {
   "codemirror_mode": {
    "name": "ipython",
    "version": 3
   },
   "file_extension": ".py",
   "mimetype": "text/x-python",
   "name": "python",
   "nbconvert_exporter": "python",
   "pygments_lexer": "ipython3",
   "version": "3.6.3"
  }
 },
 "nbformat": 4,
 "nbformat_minor": 2
}
